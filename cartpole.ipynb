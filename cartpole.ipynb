{
  "nbformat": 4,
  "nbformat_minor": 0,
  "metadata": {
    "colab": {
      "provenance": [],
      "authorship_tag": "ABX9TyMpeUvFEOP0ccDk8zNUMByn",
      "include_colab_link": true
    },
    "kernelspec": {
      "name": "python3",
      "display_name": "Python 3"
    },
    "language_info": {
      "name": "python"
    }
  },
  "cells": [
    {
      "cell_type": "markdown",
      "metadata": {
        "id": "view-in-github",
        "colab_type": "text"
      },
      "source": [
        "<a href=\"https://colab.research.google.com/github/yue-zhongqi/cartpole_colab/blob/main/cartpole.ipynb\" target=\"_parent\"><img src=\"https://colab.research.google.com/assets/colab-badge.svg\" alt=\"Open In Colab\"/></a>"
      ]
    },
    {
      "cell_type": "markdown",
      "source": [
        "# Tutorial and Sample Code for Balancing a Pole on a Cart"
      ],
      "metadata": {
        "id": "ZauhjPSfX7pI"
      }
    },
    {
      "cell_type": "markdown",
      "source": [
        "## Installing dependencies:"
      ],
      "metadata": {
        "id": "UBiYOoesYMvr"
      }
    },
    {
      "cell_type": "code",
      "execution_count": null,
      "metadata": {
        "colab": {
          "base_uri": "https://localhost:8080/"
        },
        "id": "PbgnVwZmX5uW",
        "outputId": "7dcfe5ac-b419-4d5d-8305-1ba3c1240df3"
      },
      "outputs": [
        {
          "output_type": "stream",
          "name": "stdout",
          "text": [
            "Looking in indexes: https://pypi.org/simple, https://us-python.pkg.dev/colab-wheels/public/simple/\n",
            "Requirement already satisfied: gym[classic_control] in /usr/local/lib/python3.8/dist-packages (0.25.2)\n",
            "Requirement already satisfied: cloudpickle>=1.2.0 in /usr/local/lib/python3.8/dist-packages (from gym[classic_control]) (1.5.0)\n",
            "Requirement already satisfied: gym-notices>=0.0.4 in /usr/local/lib/python3.8/dist-packages (from gym[classic_control]) (0.0.8)\n",
            "Requirement already satisfied: numpy>=1.18.0 in /usr/local/lib/python3.8/dist-packages (from gym[classic_control]) (1.21.6)\n",
            "Requirement already satisfied: importlib-metadata>=4.8.0 in /usr/local/lib/python3.8/dist-packages (from gym[classic_control]) (5.2.0)\n",
            "Collecting pygame==2.1.0\n",
            "  Downloading pygame-2.1.0-cp38-cp38-manylinux_2_17_x86_64.manylinux2014_x86_64.whl (18.3 MB)\n",
            "\u001b[2K     \u001b[90m━━━━━━━━━━━━━━━━━━━━━━━━━━━━━━━━━━━━━━━━\u001b[0m \u001b[32m18.3/18.3 MB\u001b[0m \u001b[31m58.2 MB/s\u001b[0m eta \u001b[36m0:00:00\u001b[0m\n",
            "\u001b[?25hRequirement already satisfied: zipp>=0.5 in /usr/local/lib/python3.8/dist-packages (from importlib-metadata>=4.8.0->gym[classic_control]) (3.11.0)\n",
            "Installing collected packages: pygame\n",
            "Successfully installed pygame-2.1.0\n"
          ]
        }
      ],
      "source": [
        "!apt-get install -y xvfb python-opengl > /dev/null 2>&1\n",
        "!pip install gym pyvirtualdisplay > /dev/null 2>&1\n",
        "!pip install gym pyvirtualdisplay > /dev/null 2>&1\n",
        "!apt-get install -y xvfb python-opengl ffmpeg > /dev/null 2>&1\n",
        "!pip install gym[classic_control]\n",
        "!apt-get update > /dev/null 2>&1\n",
        "!apt-get install cmake > /dev/null 2>&1\n",
        "!pip install --upgrade setuptools 2>&1\n",
        "!pip install ez_setup > /dev/null 2>&1"
      ]
    },
    {
      "cell_type": "markdown",
      "source": [
        "## Importing dependencies and define helper functions"
      ],
      "metadata": {
        "id": "RwKbYeTgbaTA"
      }
    },
    {
      "cell_type": "code",
      "source": [
        "import gym\n",
        "from gym import logger as gymlogger\n",
        "from gym.wrappers import RecordVideo\n",
        "gymlogger.set_level(40) #error only\n",
        "import tensorflow as tf\n",
        "import numpy as np\n",
        "import random\n",
        "import matplotlib\n",
        "import matplotlib.pyplot as plt\n",
        "%matplotlib inline\n",
        "import math\n",
        "import glob\n",
        "import io\n",
        "import base64\n",
        "from IPython.display import HTML\n",
        "from IPython import display as ipythondisplay\n",
        "\n",
        "def show_video():\n",
        "  mp4list = glob.glob('video/*.mp4')\n",
        "  if len(mp4list) > 0:\n",
        "    mp4 = mp4list[0]\n",
        "    video = io.open(mp4, 'r+b').read()\n",
        "    encoded = base64.b64encode(video)\n",
        "    ipythondisplay.display(HTML(data='''<video alt=\"test\" autoplay \n",
        "                loop controls style=\"height: 400px;\">\n",
        "                <source src=\"data:video/mp4;base64,{0}\" type=\"video/mp4\" />\n",
        "             </video>'''.format(encoded.decode('ascii'))))\n",
        "  else: \n",
        "    print(\"Could not find video\")"
      ],
      "metadata": {
        "id": "j6KpgCLGYWmj"
      },
      "execution_count": null,
      "outputs": []
    },
    {
      "cell_type": "markdown",
      "source": [
        "## Tutorial: Loading CartPole environment"
      ],
      "metadata": {
        "id": "ehbqP9CXbmo7"
      }
    },
    {
      "cell_type": "code",
      "source": [
        "env = gym.make(\"CartPole-v1\")"
      ],
      "metadata": {
        "id": "Go12dH4qbwBy"
      },
      "execution_count": null,
      "outputs": []
    },
    {
      "cell_type": "markdown",
      "source": [
        "We can check the action and observation space of this environment. Discrete(2) means that there are two valid discrete actions: 0 & 1."
      ],
      "metadata": {
        "id": "9XZ9g3xrcAXE"
      }
    },
    {
      "cell_type": "code",
      "source": [
        "print(env.action_space)"
      ],
      "metadata": {
        "colab": {
          "base_uri": "https://localhost:8080/"
        },
        "id": "ytxvVmLdcRyw",
        "outputId": "1ce07099-492b-4126-a792-8ff12d79c2db"
      },
      "execution_count": null,
      "outputs": [
        {
          "output_type": "stream",
          "name": "stdout",
          "text": [
            "Discrete(2)\n"
          ]
        }
      ]
    },
    {
      "cell_type": "markdown",
      "source": [
        "The observation space is given below. The first two arrays define the min and max values of the 4 observed values, corresponding to cart position, velocity and pole angle, angular velocity."
      ],
      "metadata": {
        "id": "pVXGWi_Ncfg-"
      }
    },
    {
      "cell_type": "code",
      "source": [
        "print(env.observation_space)"
      ],
      "metadata": {
        "colab": {
          "base_uri": "https://localhost:8080/"
        },
        "id": "DyqHr9I5cdkX",
        "outputId": "369a0733-e7c0-4bca-b427-5e1c603ff074"
      },
      "execution_count": null,
      "outputs": [
        {
          "output_type": "stream",
          "name": "stdout",
          "text": [
            "Box([-4.8000002e+00 -3.4028235e+38 -4.1887903e-01 -3.4028235e+38], [4.8000002e+00 3.4028235e+38 4.1887903e-01 3.4028235e+38], (4,), float32)\n"
          ]
        }
      ]
    },
    {
      "cell_type": "markdown",
      "source": [
        "We call each round of the pole-balancing game an \"episode\". At the start of each episode, make sure the environment is reset, which chooses a random initial state, e.g., pole slightly tilted to the right. This initialization can be achieved by the code below, which returns the observation of the initial state."
      ],
      "metadata": {
        "id": "HFOdaU2Gdyg0"
      }
    },
    {
      "cell_type": "code",
      "source": [
        "observation = env.reset()\n",
        "print(\"Initial observations:\", observation)"
      ],
      "metadata": {
        "colab": {
          "base_uri": "https://localhost:8080/"
        },
        "id": "VMr6qAqxdOsm",
        "outputId": "0e35ee3b-15d0-4e1f-926c-194a5a43f830"
      },
      "execution_count": null,
      "outputs": [
        {
          "output_type": "stream",
          "name": "stdout",
          "text": [
            "Initial observations: [-0.02497412  0.02682057 -0.01098384 -0.01729968]\n"
          ]
        }
      ]
    },
    {
      "cell_type": "markdown",
      "source": [
        "For the CartPole environment, there are two possible actions: 0 for pushing to the left and 1 for pushing to the right. For example, we can push the cart to the left using code below, which returns the new observation, the current reward, an indicator of whether the game ends, and some additional information (not used in this project). For CartPole, the game ends when the pole is significantly tilted or you manage to balance the pole for 500 steps. You get exactly 1 reward for each step before the game ends (i.e., max cumulative reward is 500)."
      ],
      "metadata": {
        "id": "qnG2QdfbeZrI"
      }
    },
    {
      "cell_type": "code",
      "source": [
        "observation, reward, done, info = env.step(0)\n",
        "print(\"New observations after choosing action 0:\", observation)\n",
        "print(\"Reward for this step:\", reward)\n",
        "print(\"Is this round done?\", done)"
      ],
      "metadata": {
        "colab": {
          "base_uri": "https://localhost:8080/"
        },
        "id": "MmfMDvyYdWGk",
        "outputId": "fa12ffd8-6707-4cbc-fb86-aef8484d5d17"
      },
      "execution_count": null,
      "outputs": [
        {
          "output_type": "stream",
          "name": "stdout",
          "text": [
            "New observations after choosing action 0: [-0.0244377  -0.16814215 -0.01132983  0.27189758]\n",
            "Reward for this step: 1.0\n",
            "Is this round done? False\n"
          ]
        }
      ]
    },
    {
      "cell_type": "markdown",
      "source": [
        "Now we can play a full round of the game using a naive strategy (always choosing action 0), and show the cumulative reward in the round. Note that reward returned by env.step(*) corresponds to the reward for current step. So we have to accumulate the reward for each step. Clearly, the naive strategy performs poorly by surviving only a dozen of steps."
      ],
      "metadata": {
        "id": "tj0zCh59fhBb"
      }
    },
    {
      "cell_type": "code",
      "source": [
        "observation = env.reset()\n",
        "cumulative_reward = 0\n",
        "done = False\n",
        "while not done:\n",
        "    observation, reward, done, info = env.step(0)\n",
        "    cumulative_reward += reward\n",
        "print(\"Cumulative reward for this round:\", cumulative_reward)"
      ],
      "metadata": {
        "colab": {
          "base_uri": "https://localhost:8080/"
        },
        "id": "AVucQVRwf6Jm",
        "outputId": "72f0b7d5-7cb5-4e37-da3d-997c1bfb4641"
      },
      "execution_count": null,
      "outputs": [
        {
          "output_type": "stream",
          "name": "stdout",
          "text": [
            "Cumulative reward for this round: 10.0\n"
          ]
        }
      ]
    },
    {
      "cell_type": "markdown",
      "source": [
        "## Task 1: Development of an RL agent"
      ],
      "metadata": {
        "id": "2oIzK9SzhlWN"
      }
    },
    {
      "cell_type": "markdown",
      "source": [
        "An example of a naive agent is given below, which randomly chooses an action regardless of the observation:"
      ],
      "metadata": {
        "id": "Cc6_e5c_huiq"
      }
    },
    {
      "cell_type": "code",
      "source": [
        "def rand_policy_agent(observation):\n",
        "    return random.randint(0, 1)"
      ],
      "metadata": {
        "id": "Hk-M4QEfh6l5"
      },
      "execution_count": null,
      "outputs": []
    },
    {
      "cell_type": "markdown",
      "source": [
        "For Task 1, we can show the observation and chosen action below:"
      ],
      "metadata": {
        "id": "RAi7KKwNiegR"
      }
    },
    {
      "cell_type": "code",
      "source": [
        "observation = env.reset()\n",
        "action = rand_policy_agent(observation)\n",
        "print(\"Observation:\", observation)\n",
        "print(\"Chosen action:\", action)"
      ],
      "metadata": {
        "colab": {
          "base_uri": "https://localhost:8080/"
        },
        "id": "ae2ia-vUiNKJ",
        "outputId": "22c614ca-5ba0-43d3-d27a-d79073b5d04e"
      },
      "execution_count": null,
      "outputs": [
        {
          "output_type": "stream",
          "name": "stdout",
          "text": [
            "Observation: [-0.00545997 -0.02177681  0.03111853  0.02934442]\n",
            "Chosen action: 0\n"
          ]
        }
      ]
    },
    {
      "cell_type": "markdown",
      "source": [
        "## Task 2: Demonstrate the effectiveness of the RL agent"
      ],
      "metadata": {
        "id": "-XtIQ0Rti1gm"
      }
    },
    {
      "cell_type": "markdown",
      "source": [
        "For this task, use the agent developed in Task 1 to play the game for 100 rounds (refer to tutorial for how to play a round), record the cumulative reward for each round, and plot the reward for each round. A sample plotting code is given below. Note that you must include code to play for 100 rounds and use the code to obtain round_results for plotting. DO NOT record the round results in advance and paste the results to the notebook."
      ],
      "metadata": {
        "id": "djBEShf0kGI4"
      }
    },
    {
      "cell_type": "code",
      "source": [
        "round_results = np.random.randint(150, 250, size=100)\n",
        "plt.plot(round_results)\n",
        "plt.title('Cumulative reward for each round')\n",
        "plt.ylabel('Cumulative reward')\n",
        "plt.xlabel('Round')"
      ],
      "metadata": {
        "colab": {
          "base_uri": "https://localhost:8080/",
          "height": 312
        },
        "id": "RZrCKywQi6CE",
        "outputId": "3316d27a-37bd-44aa-e972-67f28dd08903"
      },
      "execution_count": null,
      "outputs": [
        {
          "output_type": "execute_result",
          "data": {
            "text/plain": [
              "Text(0.5, 0, 'Round')"
            ]
          },
          "metadata": {},
          "execution_count": 74
        },
        {
          "output_type": "display_data",
          "data": {
            "text/plain": [
              "<Figure size 432x288 with 1 Axes>"
            ],
            "image/png": "[encoded data removed]"
          },
          "metadata": {
            "needs_background": "light"
          }
        }
      ]
    },
    {
      "cell_type": "markdown",
      "source": [
        "Print the average reward over the 100 episodes."
      ],
      "metadata": {
        "id": "XndSYH7wlvn7"
      }
    },
    {
      "cell_type": "code",
      "source": [
        "print(\"Average cumulative reward:\", round_results.mean())\n",
        "print(\"Is my agent good enough?\", round_results.mean() > 195)"
      ],
      "metadata": {
        "colab": {
          "base_uri": "https://localhost:8080/"
        },
        "id": "pOiOp9OYlo5Y",
        "outputId": "69c73ae2-62d0-4c02-864d-16e982463218"
      },
      "execution_count": null,
      "outputs": [
        {
          "output_type": "stream",
          "name": "stdout",
          "text": [
            "Average cumulative reward: 201.88\n",
            "Is my agent good enough? True\n"
          ]
        }
      ]
    },
    {
      "cell_type": "markdown",
      "source": [
        "## Task 3: Render one episode played by the agent"
      ],
      "metadata": {
        "id": "Yg0DCT38lFA6"
      }
    },
    {
      "cell_type": "markdown",
      "source": [
        "Plug your agent to the code below to obtain rendered result."
      ],
      "metadata": {
        "id": "vx1awMr9lc_w"
      }
    },
    {
      "cell_type": "code",
      "source": [
        "env = RecordVideo(gym.make(\"CartPole-v1\"), \"./video\")\n",
        "observation = env.reset()\n",
        "while True:\n",
        "    env.render()\n",
        "    #your agent goes here\n",
        "    action = rand_policy_agent(observation)\n",
        "    observation, reward, done, info = env.step(action) \n",
        "    if done: \n",
        "      break;    \n",
        "env.close()\n",
        "show_video()"
      ],
      "metadata": {
        "colab": {
          "base_uri": "https://localhost:8080/",
          "height": 421
        },
        "id": "LYyavfbIa47D",
        "outputId": "10c2f1e7-f3b9-4975-ed25-7c380966a56c"
      },
      "execution_count": null,
      "outputs": [
        {
          "output_type": "display_data",
          "data": {
            "text/plain": [
              "<IPython.core.display.HTML object>"
            ],
            "text/html": [
              "<video alt=\"test\" autoplay \n",
              "                loop controls style=\"height: 400px;\">\n",
              "                <source src=\"data:video/mp4;base64,AAAAIGZ0eXBpc29tAAACAGlzb21pc28yYXZjMW1wNDEAAAAIZnJlZQAADt5tZGF0AAACrgYF//+q3EXpvebZSLeWLNgg2SPu73gyNjQgLSBjb3JlIDE1MiByMjg1NCBlOWE1OTAzIC0gSC4yNjQvTVBFRy00IEFWQyBjb2RlYyAtIENvcHlsZWZ0IDIwMDMtMjAxNyAtIGh0dHA6Ly93d3cudmlkZW9sYW4ub3JnL3gyNjQuaHRtbCAtIG9wdGlvbnM6IGNhYmFjPTEgcmVmPTMgZGVibG9jaz0xOjA6MCBhbmFseXNlPTB4MzoweDExMyBtZT1oZXggc3VibWU9NyBwc3k9MSBwc3lfcmQ9MS4wMDowLjAwIG1peGVkX3JlZj0xIG1lX3JhbmdlPTE2IGNocm9tYV9tZT0xIHRyZWxsaXM9MSA4eDhkY3Q9MSBjcW09MCBkZWFkem9uZT0yMSwxMSBmYXN0X3Bza2lwPTEgY2hyb21hX3FwX29mZnNldD0tMiB0aHJlYWRzPTMgbG9va2FoZWFkX3RocmVhZHM9MSBzbGljZWRfdGhyZWFkcz0wIG5yPTAgZGVjaW1hdGU9MSBpbnRlcmxhY2VkPTAgYmx1cmF5X2NvbXBhdD0wIGNvbnN0cmFpbmVkX2ludHJhPTAgYmZyYW1lcz0zIGJfcHlyYW1pZD0yIGJfYWRhcHQ9MSBiX2JpYXM9MCBkaXJlY3Q9MSB3ZWlnaHRiPTEgb3Blbl9nb3A9MCB3ZWlnaHRwPTIga2V5aW50PTI1MCBrZXlpbnRfbWluPTI1IHNjZW5lY3V0PTQwIGludHJhX3JlZnJlc2g9MCByY19sb29rYWhlYWQ9NDAgcmM9Y3JmIG1idHJlZT0xIGNyZj0yMy4wIHFjb21wPTAuNjAgcXBtaW49MCBxcG1heD02OSBxcHN0ZXA9NCBpcF9yYXRpbz0xLjQwIGFxPTE6MS4wMACAAAACN2WIhAAz//727L4FNf2f0JcRLMXaSnA+KqSAgHc0wAAAAwAAAwAAFgn0I7DkqgN3QAAAHGAFBCwCPCVC2EhH2Olc/N/weIGAMGDM+4lJkZ+WuDISvtQhd0tSKaWK7yzFiq4TJ6AfWF6bBnQ/ovuCS/1UiBGXof63GrugWgnRxNchUWO9bHpXK+v5YMkdPdNy8iXXeGMSKCq32V0Ovwz/8naSOMmv5qAoguK7/7IYwt9j/ksyBLY5oCbHPa9ibheBHq9fS4oMB8hflxgukJAao6DLv2EyPupkbLgXE8u3MffBtQLklAB39gvFVW7vBix8VkN4nDsLPH/5iNVVmbK1z/T/aUpVSiAFydIgBETbpP41nlOQEluHLPq2lFc+MWmfsp1huqzhGGM0Y1AA3qjikS7mif8akxGlvy2IWbcQPkSxRyx5IZTsrp0p/5DdEFwG/vSumw4+XlAgKT1j5Dp5lWLz+Ci3glIHtrW+T5R2m0yZNKTMI6vGgwdV3q1tMw/58jYvhZf9GFG+sCze4Kax7oeTh3X+R0XZhL94L2I0LgtJHSfPB//drZJnYBgYUFAzFw40SOZdbyCJKmnH9FLK2A9y2hNGc2zlauQ0T4qC/SK1njqmb47a1SXwQpAl/O5KEVXtDlkZRx1WN7Cr+LI8bdALXDPdGBF4NcZGWJgAgnMa1c6FmTvOeYs9l6UFtq02qmhiXi1K/vXCR2+EB9fAUKzdJmuDJ4CFYxB7yniCoAAAAwAAAwABewAAAB5BmiRsQv/+jLAAAAMAB0lurACMhbzNyis8LTdNakAAAAATQZ5CeIR/AAADAAJbA/y0BUHriQAAABABnmF0R/8AAAMAAjrqlLZQAAAAEAGeY2pH/wAAAwACPArHvbkAAAC9QZpoSahBaJlMCF///oywAABGJRfZyFQBeN35y7w+a/3kqK5vCXBDsOAswGcglsASz2JQKEG0ikO/BuG6kX3viY268EYCKqw9RJm3e1y4SVbrRWN2dYN5dMSshpYVFEC2+JGTD4N7LoHROPMzgDG+VNGMwbXSzvYUQWh+YEE3wfydTcwiAp+P/zTE7MfRxP3TgZJC71xcZ8PYrDl1BaTvpX0PshWBIJhZTtP/awq30d7LsPKbdaNf+qw0wEJhAAAAM0GehkURLCP/AAAWqlfFLkdGaeR7fn6y3d0lqQm+lhiiEW/h2SKoQ7CMMP9kRUWj7oIX+QAAACcBnqV0R/8AACOr+E/gctbEoHAurFKpajrk0Q4meJ0oL4L8JToNpUEAAAA1AZ6nakf/AAAjscwJhjeF4WDn+X9H3H47UUNex7PBvSqtIcCeGCeBfCoYNACvDV+d5eV19gwAAACFQZqrSahBbJlMCF///oywAABGAfJwN/rYzJoUincsDbEqYnNH+DTtJDdyADJuXdKInv+xxDwME1af5qZNj/1j3VA3dIvpAwxQAWiaRjIBCpCIX6I604ZMzpdw6/4jqukY/pOQJTl5nHz/u6Y0F+NkeYk6XDbNP6hsKRdRFR0OfEdzIWF2MAAAADRBnslFFSwj/wAAFrNHzpimvUAzC+J59mmxxtFAE4cBomndw0ivALR0UqgQyEXBNhxOiTtxAAAAHwGe6mpH/wAAI78azB/xNx1MOCD6QFamsnvAaYLh5JgAAABoQZrvSahBbJlMCF///oywAABGEI9Gq0jIwHchno3XMjq3tU9yfeXSzHDfFJsXrmzkm4yzKoUwRobg1IpWPAL/o5gCx3IALdDp2V/8rNTy82eEcSghmJ8us98VjSy0u52t03yXiP7tqggAAAA3QZ8NRRUsI/8AABayrImZWenZBJpS12z7Hb/rAIt95ZeDk36ypE1+hUCccXYKRt4qzITTCTv+OQAAABwBnyx0R/8AACOsOQWr8fmAqrX4wpvGYQ2Eo/jhAAAAIgGfLmpH/wAAI65f8bbvURy9jYEoWnalCAWWKK6hyEz4ik8AAAB4QZszSahBbJlMCF///oywAABIAPUk++S1RSsI9K7l7bRZvoYJatGgj3757KJKXwrSeaXkdN5UzQSTqWOimKZlDFQxEY81tpBK7J4iW93a3zZG0fEZcu6Q+PZWSTDV13b5mnHzIECccLWXvAihrr0gy+akhIsu0LvAAAAAO0GfUUUVLCP/AAAXQ0esQi9dD2NNvTHEVWK9A9YRg3lQwexSAG8pcfla2IkBk8OGqhcAI3/Bul5iYsQEAAAALwGfcHRH/wAAJKnpgDCkCknIwQwmxCqfU9fxMbRa6bg+Jls0OWqBzh27uPw17/HBAAAAKwGfcmpH/wAAJLHBicaEuJuCZebfb5ugGwLeT2TXLNABr2ygBJb14cP9iSYAAACEQZt3SahBbJlMCFf//jhAAAEVTufK/BOM7JA9ZoDkcbRZPASfVu4KEoY+/P2ptWqaMYB+FUEDojXm6K/UncA7PBDFuy/rJtGe1UpaX/32AEsi/nu7jx0NbOXzifT98qHhWVjGyDvmGsjgV7Y7ACwVDpi0T5Y+CBbdEyXS0fvHcqsZCtoLAAAAQkGflUUVLCP/AAAXS1tvTaQJABxYWzQTqP+daR09k2nbDlxPVrPUIF7SmWuYWt0umRZ5VYWsDcgjFPUEIuAcQi7tuQAAADUBn7R0R/8AACTAqgeqEdaW0aKhC4VXPYMhRscBYt0n0xL+xjHkJl2wW44RuB72u5B/oJVgwAAAAEABn7ZqR/8AACSuXjOHXQis5/fpEMdhctJAjQF1Gey7+ersG6ZWq/7xBnvN/Z1CO3Vi94Z1QoelrdrCr2z/JQ5JAAAAbEGbuEmoQWyZTAhX//44QAAAaWCZBJcIad3qxyfHsX8qyDSC8bKrrjNj4kIr5fUsauH0JXQmTpMZlQHzTzdoayLPphdVBtkALHFES8hM77Jsy/ss/RZbFpqBqAzfH6cTpcA8sLTM3nhsJ9YsgQAAAKtBm9pJ4QpSZTBRUsK//jhAAAEVSeyLACKTRncJntaBozDXeG13GB1FufHNxWA2LOtyl7T+3jPWIVpm3KNDkjrQcaPT2tX+C6qDEUJo28wZXxpa5IvZjIq/gBEKFMxFl2hai6/azuhnaAPypQpd82y5mJAE32JkIb6cnPMvZxv067QuecFfHyUQsWsA+DHNEDkPd8dQpoPlehTr6gXHVFE2BEnh2SBEhK2KRDAAAAA4AZ/5akf/AAAkscwuKDfnj+urOu6BzwzekiXq6Ypsr/dbo25nEHEYVrsva/qM1jCXqqMuuG8PxbkAAAC9QZv8SeEOiZTBRMK//jhAAAEU/ebrVKYD/XQAFnnj4Oskd/w5nOcJKgkl767MSrb2bW1XJ5N7jhn/2qEDQFKqTTtrL2AjKm+wpIpgO8+cIe0okyR33COpWlIHiU6XDMx9GNDv64fkd8Oke5qu+bj+TZ50Rh+7/6KRk5drQJs63gg1oY+6wDxpvFsDDi8f44y0GE//hBliyxskd/jSqyvHEUl/BxeGIqIZmJxXM9OFabMe5r4L8OyjZFalF+TgAAAAVwGeG2pH/wAAJL8EI+ByniHe1MgI3RQ/yGwB/NMsgJPmltobmOuEmpTd3QuuK9zAB72GBDjDUlKXb8KnDhhF/upQfiKP7ioDaAdPRdNbVTLNwXQ+ls7CwQAAAKFBmh5J4Q8mUwU8I//94QAABDR3anzqg4JC7Q3XiQfO3pfqIskADZd4qV7H/xVBHaNMU99bKoLyzOo4vvoEvusBif0BL0+ZWAapQtU6SEWN1nu0JEUTPxPySzyru4syBz8stMhTc6qTITH3BPPYWHxkmkYimGcRPlyVfCGgXJkTuItLfbPSMNmdIDwdtTdc1EBvn36Opf7gUY/XG0+ujKM4RwAAAFQBnj1qR/8AACSj405CzztdPu2+2bS+wLtMGz0a5XZPVAF3+CmTbW8svR3lAP8laIac/kWyz3SAjVDegisUNB3SvVACNYqFF+o/wH5s4QybPIfGdOAAAAB7QZo/SeEPJlMCP//8hAAAEEwk+ipxgwH6lXAMGuFVDQk0G2oAW0LoZhyFzBWf/z7+wKDZhETZYVX48VWWz2HWTCBzUBkfL1Kh0uqbgQaRvAXc9Q9dMeAQ4+EXgUeUCKKS+pn16xmuZg14niefVGQtPpEDkg/xGrABA0OoAAAEi21vb3YAAABsbXZoZAAAAAAAAAAAAAAAAAAAA+gAAAKAAAEAAAEAAAAAAAAAAAAAAAABAAAAAAAAAAAAAAAAAAAAAQAAAAAAAAAAAAAAAAAAQAAAAAAAAAAAAAAAAAAAAAAAAAAAAAAAAAAAAAAAAAIAAAO1dHJhawAAAFx0a2hkAAAAAwAAAAAAAAAAAAAAAQAAAAAAAAKAAAAAAAAAAAAAAAAAAAAAAAABAAAAAAAAAAAAAAAAAAAAAQAAAAAAAAAAAAAAAAAAQAAAAAJYAAABkAAAAAAAJGVkdHMAAAAcZWxzdAAAAAAAAAABAAACgAAAAgAAAQAAAAADLW1kaWEAAAAgbWRoZAAAAAAAAAAAAAAAAAAAMgAAACAAVcQAAAAAAC1oZGxyAAAAAAAAAAB2aWRlAAAAAAAAAAAAAAAAVmlkZW9IYW5kbGVyAAAAAthtaW5mAAAAFHZtaGQAAAABAAAAAAAAAAAAAAAkZGluZgAAABxkcmVmAAAAAAAAAAEAAAAMdXJsIAAAAAEAAAKYc3RibAAAAJhzdHNkAAAAAAAAAAEAAACIYXZjMQAAAAAAAAABAAAAAAAAAAAAAAAAAAAAAAJYAZAASAAAAEgAAAAAAAAAAQAAAAAAAAAAAAAAAAAAAAAAAAAAAAAAAAAAAAAAAAAAABj//wAAADJhdmNDAWQAH//hABlnZAAfrNlAmDPl4QAAAwABAAADAGQPGDGWAQAGaOvjyyLAAAAAGHN0dHMAAAAAAAAAAQAAACAAAAEAAAAAFHN0c3MAAAAAAAAAAQAAAAEAAAEIY3R0cwAAAAAAAAAfAAAAAQAAAgAAAAABAAAFAAAAAAEAAAIAAAAAAQAAAAAAAAABAAABAAAAAAEAAAUAAAAAAQAAAgAAAAABAAAAAAAAAAEAAAEAAAAAAQAABAAAAAACAAABAAAAAAEAAAUAAAAAAQAAAgAAAAABAAAAAAAAAAEAAAEAAAAAAQAABQAAAAABAAACAAAAAAEAAAAAAAAAAQAAAQAAAAABAAAFAAAAAAEAAAIAAAAAAQAAAAAAAAABAAABAAAAAAEAAAIAAAAAAQAAAwAAAAABAAABAAAAAAEAAAMAAAAAAQAAAQAAAAABAAADAAAAAAEAAAEAAAAAAQAAAgAAAAAcc3RzYwAAAAAAAAABAAAAAQAAACAAAAABAAAAlHN0c3oAAAAAAAAAAAAAACAAAATtAAAAIgAAABcAAAAUAAAAFAAAAMEAAAA3AAAAKwAAADkAAACJAAAAOAAAACMAAABsAAAAOwAAACAAAAAmAAAAfAAAAD8AAAAzAAAALwAAAIgAAABGAAAAOQAAAEQAAABwAAAArwAAADwAAADBAAAAWwAAAKUAAABYAAAAfwAAABRzdGNvAAAAAAAAAAEAAAAwAAAAYnVkdGEAAABabWV0YQAAAAAAAAAhaGRscgAAAAAAAAAAbWRpcmFwcGwAAAAAAAAAAAAAAAAtaWxzdAAAACWpdG9vAAAAHWRhdGEAAAABAAAAAExhdmY1Ny44My4xMDA=\" type=\"video/mp4\" />\n",
              "             </video>"
            ]
          },
          "metadata": {}
        }
      ]
    }
  ]
}